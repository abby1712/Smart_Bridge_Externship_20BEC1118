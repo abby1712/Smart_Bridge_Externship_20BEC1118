{
  "nbformat": 4,
  "nbformat_minor": 0,
  "metadata": {
    "colab": {
      "provenance": []
    },
    "kernelspec": {
      "name": "python3",
      "display_name": "Python 3"
    },
    "language_info": {
      "name": "python"
    }
  },
  "cells": [
    {
      "cell_type": "markdown",
      "source": [
        "# EXTERNSHIP WEEK 3 ASSIGNMENT\n",
        "Abhishek Sebastian 20BEC1118"
      ],
      "metadata": {
        "id": "uJaWeLywNNqt"
      }
    },
    {
      "cell_type": "markdown",
      "source": [
        "## Preparation of Files to Our Required Format Style\n"
      ],
      "metadata": {
        "id": "zHWXdlVrADi6"
      }
    },
    {
      "cell_type": "markdown",
      "source": [
        "To Rename Images with label"
      ],
      "metadata": {
        "id": "-KwzcE5ANE7W"
      }
    },
    {
      "cell_type": "code",
      "execution_count": null,
      "metadata": {
        "id": "mI0VSE_YJN5n"
      },
      "outputs": [],
      "source": [
        "import os\n",
        "import shutil\n",
        "\n",
        "main_folder = '/content/drive/MyDrive/archive/test_data/test_data'\n",
        "\n",
        "def rename_images_in_subfolders(folder_path, start_index=1):\n",
        "    subfolders = [f.path for f in os.scandir(folder_path) if f.is_dir()]\n",
        "\n",
        "    for index, subfolder in enumerate(subfolders, start=start_index):\n",
        "        images = [f.path for f in os.scandir(subfolder) if f.is_file() and f.name.endswith('.jpg')]\n",
        "\n",
        "        subfolder_name = os.path.basename(subfolder)\n",
        "\n",
        "        for i, image_path in enumerate(images):\n",
        "            image_name = f'{subfolder_name}-{i+1}.jpg'\n",
        "            new_image_path = os.path.join(subfolder, image_name)\n",
        "            shutil.move(image_path, new_image_path)\n",
        "\n",
        "        rename_images_in_subfolders(subfolder, start_index=index+1)\n",
        "\n",
        "rename_images_in_subfolders(main_folder)\n"
      ]
    },
    {
      "cell_type": "markdown",
      "source": [
        "To Copy all the images in different folders to one Folder \" ALL IMAGES \""
      ],
      "metadata": {
        "id": "cVijQlTJNHQd"
      }
    },
    {
      "cell_type": "code",
      "source": [
        "import os\n",
        "import shutil\n",
        "\n",
        "main_folder = '/content/drive/MyDrive/archive/test_data/test_data'\n",
        "target_folder = '/content/drive/MyDrive/archive/train_data/test_images'\n",
        "\n",
        "def copy_images_to_target_folder(folder_path):\n",
        "    subfolders = [f.path for f in os.scandir(folder_path) if f.is_dir()]\n",
        "\n",
        "    for subfolder in subfolders:\n",
        "        images = [f.path for f in os.scandir(subfolder) if f.is_file() and f.name.endswith('.jpg')]\n",
        "\n",
        "        for image_path in images:\n",
        "            image_name = os.path.basename(image_path)\n",
        "            target_image_path = os.path.join(target_folder, image_name)\n",
        "            shutil.copy2(image_path, target_image_path)\n",
        "\n",
        "        copy_images_to_target_folder(subfolder)\n",
        "\n",
        "# Create the target folder if it doesn't exist\n",
        "if not os.path.exists(target_folder):\n",
        "    os.makedirs(target_folder)\n",
        "\n",
        "copy_images_to_target_folder(main_folder)\n"
      ],
      "metadata": {
        "id": "6X8W8qPyKrni"
      },
      "execution_count": null,
      "outputs": []
    },
    {
      "cell_type": "code",
      "source": [
        "import os\n",
        "\n",
        "# Set the path to the image folder\n",
        "image_folder = '/content/drive/MyDrive/archive/train_data/all_images'\n",
        "\n",
        "# Count the number of files in the directory\n",
        "num_files = len([f for f in os.listdir(image_folder) if os.path.isfile(os.path.join(image_folder, f))])\n",
        "\n",
        "print(\"Number of files:\", num_files)"
      ],
      "metadata": {
        "colab": {
          "base_uri": "https://localhost:8080/"
        },
        "id": "XcZ84GfQMfpO",
        "outputId": "0b3a6e45-5bf3-4aee-f8d1-a599dd608af5"
      },
      "execution_count": null,
      "outputs": [
        {
          "output_type": "stream",
          "name": "stdout",
          "text": [
            "Number of files: 87\n"
          ]
        }
      ]
    },
    {
      "cell_type": "markdown",
      "source": [
        ">The files amount is very less , hence augmentation is required ( Over Sampling )"
      ],
      "metadata": {
        "id": "aLLBSxzIMY3l"
      }
    },
    {
      "cell_type": "markdown",
      "source": [
        "## Augmentation of Images"
      ],
      "metadata": {
        "id": "gVlestYqMV6S"
      }
    },
    {
      "cell_type": "code",
      "source": [
        "import os\n",
        "from tensorflow.keras.preprocessing.image import ImageDataGenerator\n",
        "from PIL import Image\n",
        "import numpy as np\n",
        "\n",
        "# Path to the folder containing the original images\n",
        "original_folder = '/content/drive/MyDrive/archive/train_data/all_images'\n",
        "\n",
        "# Path to the new folder for augmented images\n",
        "new_folder = '/content/drive/MyDrive/archive/train_data/augmented_images'\n",
        "\n",
        "# Create the new folder if it doesn't exist\n",
        "if not os.path.exists(new_folder):\n",
        "    os.makedirs(new_folder)\n",
        "\n",
        "# Create an ImageDataGenerator instance with desired augmentation settings\n",
        "data_generator = ImageDataGenerator(\n",
        "    rotation_range=3,\n",
        "    width_shift_range=0.1,\n",
        "    shear_range=0.1,\n",
        "    zoom_range=0.1,\n",
        ")\n",
        "\n",
        "# Iterate through each image in the original folder\n",
        "for filename in os.listdir(original_folder):\n",
        "    if filename.endswith('.jpg') or filename.endswith('.png'):\n",
        "        original_image_path = os.path.join(original_folder, filename)\n",
        "\n",
        "        # Load the original image\n",
        "        original_image = Image.open(original_image_path)\n",
        "\n",
        "        # Reshape the image to 4D for compatibility with ImageDataGenerator\n",
        "        image_array = original_image.resize((256, 256))  # Resize if needed\n",
        "        image_array = np.array(image_array)\n",
        "        image_array = np.expand_dims(image_array, axis=0)\n",
        "\n",
        "        # Generate augmented images\n",
        "        augmented_images = data_generator.flow(image_array, batch_size=1)\n",
        "\n",
        "        # Generate 10 augmented versions of the image\n",
        "        for i, augmented_image_array in enumerate(augmented_images):\n",
        "            augmented_image = Image.fromarray(np.uint8(augmented_image_array[0]))\n",
        "\n",
        "            # Extract the name and extension of the original image\n",
        "            name, extension = os.path.splitext(filename)\n",
        "\n",
        "            # Generate a unique ID for each augmented image\n",
        "            image_id = f\"augmented_{i}\"\n",
        "\n",
        "            # Construct the new filename\n",
        "            new_filename = f\"{name}_{image_id}{extension}\"\n",
        "\n",
        "            # Get the path for the augmented image\n",
        "            augmented_image_path = os.path.join(new_folder, new_filename)\n",
        "\n",
        "            # Save the augmented image with the new filename\n",
        "            augmented_image.save(augmented_image_path)\n",
        "\n",
        "            if i == 20:\n",
        "                break\n",
        "\n",
        "# Print the path to the augmented images folder\n",
        "print(\"Augmented images saved in:\", new_folder)\n",
        "\n"
      ],
      "metadata": {
        "colab": {
          "base_uri": "https://localhost:8080/"
        },
        "id": "LY43irkSCSYo",
        "outputId": "5d63ee7c-33b9-4436-f9f9-bc0c7c447742"
      },
      "execution_count": null,
      "outputs": [
        {
          "output_type": "stream",
          "name": "stdout",
          "text": [
            "Augmented images saved in: /content/drive/MyDrive/archive/train_data/augmented_images\n"
          ]
        }
      ]
    },
    {
      "cell_type": "markdown",
      "source": [
        "## Training"
      ],
      "metadata": {
        "id": "gxA9RwoYCTYj"
      }
    },
    {
      "cell_type": "code",
      "source": [
        "import os\n",
        "\n",
        "# Set the path to the image folder\n",
        "image_folder = '/content/drive/MyDrive/archive/train_data/augmented_images'\n",
        "\n",
        "# Count the number of files in the directory\n",
        "num_files = len([f for f in os.listdir(image_folder) if os.path.isfile(os.path.join(image_folder, f))])\n",
        "\n",
        "print(\"Number of files:\", num_files)\n"
      ],
      "metadata": {
        "colab": {
          "base_uri": "https://localhost:8080/"
        },
        "id": "wr7dvK7OHfVi",
        "outputId": "f9662ab6-bca5-414d-ef96-bc5b3ff4048e"
      },
      "execution_count": null,
      "outputs": [
        {
          "output_type": "stream",
          "name": "stdout",
          "text": [
            "Number of files: 1827\n"
          ]
        }
      ]
    },
    {
      "cell_type": "code",
      "source": [
        "import os\n",
        "import cv2\n",
        "import numpy as np\n",
        "from sklearn.model_selection import train_test_split\n",
        "from tensorflow.keras.models import Sequential\n",
        "from tensorflow.keras.layers import Conv2D, MaxPooling2D, Flatten, Dense\n",
        "from tensorflow.keras.utils import to_categorical\n",
        "\n",
        "# Set the path to the image folder\n",
        "image_folder = '/content/drive/MyDrive/archive/train_data/augmented_images'\n",
        "# Preprocessing and label extraction\n",
        "image_size = (150, 150)  # Set the desired image size\n",
        "labels = []\n",
        "\n",
        "# Load and preprocess the images\n",
        "images = []\n",
        "for filename in os.listdir(image_folder):\n",
        "    if filename.endswith('.jpg') or filename.endswith('.png'):\n",
        "        image_path = os.path.join(image_folder, filename)\n",
        "        label = filename.split('-')[0]\n",
        "        labels.append(label)\n",
        "\n",
        "        # Read the image and resize using the thumbnail option\n",
        "        image = cv2.imread(image_path)\n",
        "        image = cv2.cvtColor(image, cv2.COLOR_BGR2RGB)  # Convert BGR to RGB\n",
        "        thumbnail = cv2.resize(image, image_size, interpolation=cv2.INTER_AREA)\n",
        "        thumbnail = thumbnail / 255.0  # Normalize the image\n",
        "        images.append(thumbnail)\n",
        "\n",
        "# Convert the lists to numpy arrays\n",
        "images = np.array(images)\n",
        "labels = np.array(labels)\n",
        "\n",
        "# Perform one-hot encoding on the labels\n",
        "unique_labels = np.unique(labels)\n",
        "label_map = {label: idx for idx, label in enumerate(unique_labels)}\n",
        "encoded_labels = [label_map[label] for label in labels]\n",
        "one_hot_labels = to_categorical(encoded_labels)\n",
        "\n",
        "\n"
      ],
      "metadata": {
        "id": "lH_aIwEwLa9u"
      },
      "execution_count": null,
      "outputs": []
    },
    {
      "cell_type": "code",
      "source": [
        "np.unique(labels)"
      ],
      "metadata": {
        "colab": {
          "base_uri": "https://localhost:8080/"
        },
        "id": "73BfLbuNA77C",
        "outputId": "3f95d1fa-eee8-494c-f4e6-1fb87de39109"
      },
      "execution_count": null,
      "outputs": [
        {
          "output_type": "execute_result",
          "data": {
            "text/plain": [
              "array(['blasti', 'bonegl', 'brhkyt', 'cbrtsh', 'cmnmyn', 'hilpig',\n",
              "       'himbul', 'himgri', 'indvul', 'jglowl'], dtype='<U6')"
            ]
          },
          "metadata": {},
          "execution_count": 3
        }
      ]
    },
    {
      "cell_type": "code",
      "source": [
        "\n",
        "# Split the data into training, validation, and testing sets\n",
        "X_train, X_test, y_train, y_test = train_test_split(images, one_hot_labels, test_size=0.4, random_state=42)\n",
        "X_train, X_val, y_train, y_val = train_test_split(X_train, y_train, test_size=0.15, random_state=42)\n"
      ],
      "metadata": {
        "id": "GRrTsUR_L9AO"
      },
      "execution_count": null,
      "outputs": []
    },
    {
      "cell_type": "code",
      "source": [
        "from tensorflow.keras.layers import Dropout\n",
        "from tensorflow.keras.callbacks import EarlyStopping\n",
        "\n",
        "# Build a simplified CNN model with one dropout layer\n",
        "model = Sequential()\n",
        "model.add(Conv2D(32, (3, 3), activation='relu', input_shape=(image_size[0], image_size[1], 3)))\n",
        "model.add(MaxPooling2D(pool_size=(2, 2)))\n",
        "model.add(Flatten())\n",
        "model.add(Dropout(0.1))  # Add dropout layer with 25% dropout rate\n",
        "model.add(Dense(len(unique_labels), activation='softmax'))\n",
        "\n",
        "# Compile the model\n",
        "model.compile(optimizer='adam', loss='categorical_crossentropy', metrics=['accuracy'])\n",
        "\n",
        "# Define early stopping callback\n",
        "early_stopping = EarlyStopping(patience=10)\n",
        "\n",
        "# Train the model with early stopping\n",
        "model.fit(X_train, y_train, epochs=25, batch_size=32, validation_data=(X_val, y_val), callbacks=[early_stopping])\n",
        "\n",
        "\n"
      ],
      "metadata": {
        "colab": {
          "base_uri": "https://localhost:8080/"
        },
        "id": "4v2QE0olMAVw",
        "outputId": "b947063c-bf8e-40d9-f67e-153f1d080611"
      },
      "execution_count": null,
      "outputs": [
        {
          "output_type": "stream",
          "name": "stdout",
          "text": [
            "Epoch 1/25\n",
            "30/30 [==============================] - 22s 592ms/step - loss: 3.4019 - accuracy: 0.4082 - val_loss: 0.8342 - val_accuracy: 0.8000\n",
            "Epoch 2/25\n",
            "30/30 [==============================] - 16s 540ms/step - loss: 0.5578 - accuracy: 0.8614 - val_loss: 0.2999 - val_accuracy: 0.9030\n",
            "Epoch 3/25\n",
            "30/30 [==============================] - 17s 577ms/step - loss: 0.1801 - accuracy: 0.9678 - val_loss: 0.1893 - val_accuracy: 0.9576\n",
            "Epoch 4/25\n",
            "30/30 [==============================] - 27s 901ms/step - loss: 0.0754 - accuracy: 0.9946 - val_loss: 0.1417 - val_accuracy: 0.9758\n",
            "Epoch 5/25\n",
            "30/30 [==============================] - 18s 608ms/step - loss: 0.0378 - accuracy: 1.0000 - val_loss: 0.0598 - val_accuracy: 0.9939\n",
            "Epoch 6/25\n",
            "30/30 [==============================] - 18s 605ms/step - loss: 0.0199 - accuracy: 1.0000 - val_loss: 0.0883 - val_accuracy: 0.9939\n",
            "Epoch 7/25\n",
            "30/30 [==============================] - 19s 608ms/step - loss: 0.0150 - accuracy: 1.0000 - val_loss: 0.0417 - val_accuracy: 0.9939\n",
            "Epoch 8/25\n",
            "30/30 [==============================] - 17s 583ms/step - loss: 0.0092 - accuracy: 1.0000 - val_loss: 0.0390 - val_accuracy: 0.9939\n",
            "Epoch 9/25\n",
            "30/30 [==============================] - 17s 582ms/step - loss: 0.0074 - accuracy: 1.0000 - val_loss: 0.0361 - val_accuracy: 0.9939\n",
            "Epoch 10/25\n",
            "30/30 [==============================] - 17s 585ms/step - loss: 0.0069 - accuracy: 1.0000 - val_loss: 0.0282 - val_accuracy: 0.9939\n",
            "Epoch 11/25\n",
            "30/30 [==============================] - 17s 578ms/step - loss: 0.0051 - accuracy: 1.0000 - val_loss: 0.0262 - val_accuracy: 0.9939\n",
            "Epoch 12/25\n",
            "30/30 [==============================] - 18s 607ms/step - loss: 0.0039 - accuracy: 1.0000 - val_loss: 0.0268 - val_accuracy: 0.9939\n",
            "Epoch 13/25\n",
            "30/30 [==============================] - 17s 578ms/step - loss: 0.0034 - accuracy: 1.0000 - val_loss: 0.0244 - val_accuracy: 0.9939\n",
            "Epoch 14/25\n",
            "30/30 [==============================] - 17s 569ms/step - loss: 0.0030 - accuracy: 1.0000 - val_loss: 0.0253 - val_accuracy: 0.9939\n",
            "Epoch 15/25\n",
            "30/30 [==============================] - 17s 564ms/step - loss: 0.0027 - accuracy: 1.0000 - val_loss: 0.0221 - val_accuracy: 0.9939\n",
            "Epoch 16/25\n",
            "30/30 [==============================] - 17s 569ms/step - loss: 0.0024 - accuracy: 1.0000 - val_loss: 0.0194 - val_accuracy: 0.9939\n",
            "Epoch 17/25\n",
            "30/30 [==============================] - 18s 609ms/step - loss: 0.0021 - accuracy: 1.0000 - val_loss: 0.0195 - val_accuracy: 0.9939\n",
            "Epoch 18/25\n",
            "30/30 [==============================] - 17s 571ms/step - loss: 0.0019 - accuracy: 1.0000 - val_loss: 0.0213 - val_accuracy: 0.9939\n",
            "Epoch 19/25\n",
            "30/30 [==============================] - 18s 598ms/step - loss: 0.0017 - accuracy: 1.0000 - val_loss: 0.0182 - val_accuracy: 1.0000\n",
            "Epoch 20/25\n",
            "30/30 [==============================] - 17s 584ms/step - loss: 0.0019 - accuracy: 1.0000 - val_loss: 0.0175 - val_accuracy: 0.9939\n",
            "Epoch 21/25\n",
            "30/30 [==============================] - 18s 600ms/step - loss: 0.0015 - accuracy: 1.0000 - val_loss: 0.0181 - val_accuracy: 0.9939\n",
            "Epoch 22/25\n",
            "30/30 [==============================] - 18s 609ms/step - loss: 0.0013 - accuracy: 1.0000 - val_loss: 0.0176 - val_accuracy: 1.0000\n",
            "Epoch 23/25\n",
            "30/30 [==============================] - 17s 582ms/step - loss: 0.0015 - accuracy: 1.0000 - val_loss: 0.0136 - val_accuracy: 1.0000\n",
            "Epoch 24/25\n",
            "30/30 [==============================] - 18s 591ms/step - loss: 0.0011 - accuracy: 1.0000 - val_loss: 0.0157 - val_accuracy: 1.0000\n",
            "Epoch 25/25\n",
            "30/30 [==============================] - 18s 594ms/step - loss: 0.0010 - accuracy: 1.0000 - val_loss: 0.0164 - val_accuracy: 1.0000\n"
          ]
        },
        {
          "output_type": "execute_result",
          "data": {
            "text/plain": [
              "<keras.callbacks.History at 0x7f0874b7b760>"
            ]
          },
          "metadata": {},
          "execution_count": 7
        }
      ]
    },
    {
      "cell_type": "code",
      "source": [
        "# Assuming you have a trained model object named \"model\"\n",
        "model.save(\"/content/drive/MyDrive/archive/modelV1.h5\")\n"
      ],
      "metadata": {
        "id": "b2d6WFfsJ1Bo"
      },
      "execution_count": null,
      "outputs": []
    },
    {
      "cell_type": "markdown",
      "source": [
        "## Testing"
      ],
      "metadata": {
        "id": "_eWNQe1RMJRm"
      }
    },
    {
      "cell_type": "code",
      "source": [
        "import numpy as np\n",
        "import matplotlib.pyplot as plt\n",
        "from sklearn.metrics import accuracy_score, confusion_matrix\n",
        "import seaborn as sns\n",
        "\n",
        "# Evaluate test accuracy\n",
        "y_pred = model.predict(X_test)\n",
        "y_pred_labels = np.argmax(y_pred, axis=1)\n",
        "y_test_labels = np.argmax(y_test, axis=1)\n",
        "test_accuracy = accuracy_score(y_test_labels, y_pred_labels)\n",
        "print('Test Accuracy:', test_accuracy)\n",
        "\n",
        "# Generate confusion matrix\n",
        "cm = confusion_matrix(y_test_labels, y_pred_labels)\n",
        "plt.figure(figsize=(10, 8))\n",
        "sns.heatmap(cm, annot=True, cmap='Blues', fmt='g', xticklabels=unique_labels, yticklabels=unique_labels)\n",
        "plt.xlabel('Predicted Labels')\n",
        "plt.ylabel('True Labels')\n",
        "plt.title('Confusion Matrix')\n",
        "plt.show()"
      ],
      "metadata": {
        "colab": {
          "base_uri": "https://localhost:8080/",
          "height": 764
        },
        "id": "sW6TaMxfMkFI",
        "outputId": "37d18a6d-0485-4498-a03e-cb47b5f864df"
      },
      "execution_count": null,
      "outputs": [
        {
          "output_type": "stream",
          "name": "stdout",
          "text": [
            "23/23 [==============================] - 6s 247ms/step\n",
            "Test Accuracy: 0.9986320109439124\n"
          ]
        },
        {
          "output_type": "display_data",
          "data": {
            "text/plain": [
              "<Figure size 1000x800 with 2 Axes>"
            ],
            "image/png": "[encoded data removed]"
          },
          "metadata": {}
        }
      ]
    }
  ]
}