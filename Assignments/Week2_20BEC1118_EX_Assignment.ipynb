{
  "nbformat": 4,
  "nbformat_minor": 0,
  "metadata": {
    "colab": {
      "provenance": []
    },
    "kernelspec": {
      "name": "python3",
      "display_name": "Python 3"
    },
    "language_info": {
      "name": "python"
    }
  },
  "cells": [
    {
      "cell_type": "markdown",
      "source": [
        "Week 2 Assignment\n"
      ],
      "metadata": {
        "id": "J_4AYyDArPn2"
      }
    },
    {
      "cell_type": "markdown",
      "source": [
        "Abhishek Sebastian 20BEC1118 VIT-Chennai"
      ],
      "metadata": {
        "id": "m9btF6ecq6Tv"
      }
    },
    {
      "cell_type": "code",
      "source": [
        "import pandas as pd\n",
        "import numpy as np\n",
        "import tensorflow as tf\n",
        "from sklearn.preprocessing import LabelEncoder, StandardScaler"
      ],
      "metadata": {
        "id": "EcNx2o48ZgWV"
      },
      "execution_count": null,
      "outputs": []
    },
    {
      "cell_type": "code",
      "source": [
        "\n",
        "# Task 1: Read the dataset and do data pre-processing\n",
        "df = pd.read_csv(\"/content/drug200.csv\")\n",
        "\n",
        "# Identify columns with text values\n",
        "text_cols = df.select_dtypes(include='object').columns\n",
        "\n",
        "# Encode text values to float accordingly\n",
        "label_encoders = {}\n",
        "for col in text_cols:\n",
        "    label_encoders[col] = LabelEncoder()\n",
        "    df[col] = label_encoders[col].fit_transform(df[col])\n",
        "\n",
        "# Split features and labels\n",
        "X = df.iloc[:, :-1].values\n",
        "y = df.iloc[:, -1].values\n",
        "\n",
        "# Convert numerical columns to float\n",
        "X = X.astype(float)\n",
        "\n",
        "# Reshape y to be a 1D array\n",
        "y = np.ravel(y)\n",
        "\n",
        "# Feature scaling\n",
        "scaler = StandardScaler()\n",
        "X = scaler.fit_transform(X)\n",
        "\n",
        "\n"
      ],
      "metadata": {
        "id": "5dWuoyRnZNyC"
      },
      "execution_count": null,
      "outputs": []
    },
    {
      "cell_type": "code",
      "source": [
        "# Task 2: Build the ANN model with (input layer, min 3 hidden layers & output layer)\n",
        "model = tf.keras.models.Sequential([\n",
        "    tf.keras.layers.Dense(units=128, activation='relu', input_dim=X.shape[1]),\n",
        "    tf.keras.layers.Dense(units=64, activation='relu'),\n",
        "    tf.keras.layers.Dense(units=32, activation='relu'),\n",
        "    tf.keras.layers.Dense(units=len(label_encoders[df.columns[-1]].classes_), activation='softmax')\n",
        "])\n",
        "\n",
        "# Compile the model\n",
        "model.compile(optimizer='adam', loss='sparse_categorical_crossentropy', metrics=['accuracy'])\n",
        "\n",
        "# Train the model\n",
        "model.fit(X, y, batch_size=32, epochs=25, validation_split=0.2, shuffle=True)\n",
        "\n"
      ],
      "metadata": {
        "colab": {
          "base_uri": "https://localhost:8080/"
        },
        "id": "TcPKmXifZWAS",
        "outputId": "f937832e-4884-4551-9929-49f0562b2dd8"
      },
      "execution_count": null,
      "outputs": [
        {
          "output_type": "stream",
          "name": "stdout",
          "text": [
            "Epoch 1/25\n",
            "5/5 [==============================] - 1s 57ms/step - loss: 1.5432 - accuracy: 0.4062 - val_loss: 1.4547 - val_accuracy: 0.5250\n",
            "Epoch 2/25\n",
            "5/5 [==============================] - 0s 16ms/step - loss: 1.4194 - accuracy: 0.4437 - val_loss: 1.3307 - val_accuracy: 0.5000\n",
            "Epoch 3/25\n",
            "5/5 [==============================] - 0s 10ms/step - loss: 1.2999 - accuracy: 0.4500 - val_loss: 1.2141 - val_accuracy: 0.5000\n",
            "Epoch 4/25\n",
            "5/5 [==============================] - 0s 15ms/step - loss: 1.1945 - accuracy: 0.4500 - val_loss: 1.1073 - val_accuracy: 0.5250\n",
            "Epoch 5/25\n",
            "5/5 [==============================] - 0s 10ms/step - loss: 1.0859 - accuracy: 0.5000 - val_loss: 1.0094 - val_accuracy: 0.5500\n",
            "Epoch 6/25\n",
            "5/5 [==============================] - 0s 10ms/step - loss: 0.9931 - accuracy: 0.5437 - val_loss: 0.9217 - val_accuracy: 0.6250\n",
            "Epoch 7/25\n",
            "5/5 [==============================] - 0s 14ms/step - loss: 0.8993 - accuracy: 0.6438 - val_loss: 0.8391 - val_accuracy: 0.6750\n",
            "Epoch 8/25\n",
            "5/5 [==============================] - 0s 17ms/step - loss: 0.8115 - accuracy: 0.7250 - val_loss: 0.7599 - val_accuracy: 0.7250\n",
            "Epoch 9/25\n",
            "5/5 [==============================] - 0s 15ms/step - loss: 0.7249 - accuracy: 0.7625 - val_loss: 0.6855 - val_accuracy: 0.8000\n",
            "Epoch 10/25\n",
            "5/5 [==============================] - 0s 14ms/step - loss: 0.6404 - accuracy: 0.8250 - val_loss: 0.6162 - val_accuracy: 0.8000\n",
            "Epoch 11/25\n",
            "5/5 [==============================] - 0s 15ms/step - loss: 0.5649 - accuracy: 0.8438 - val_loss: 0.5505 - val_accuracy: 0.8250\n",
            "Epoch 12/25\n",
            "5/5 [==============================] - 0s 15ms/step - loss: 0.4917 - accuracy: 0.8687 - val_loss: 0.4894 - val_accuracy: 0.8500\n",
            "Epoch 13/25\n",
            "5/5 [==============================] - 0s 14ms/step - loss: 0.4277 - accuracy: 0.9062 - val_loss: 0.4345 - val_accuracy: 0.9250\n",
            "Epoch 14/25\n",
            "5/5 [==============================] - 0s 13ms/step - loss: 0.3680 - accuracy: 0.9500 - val_loss: 0.3839 - val_accuracy: 0.9250\n",
            "Epoch 15/25\n",
            "5/5 [==============================] - 0s 15ms/step - loss: 0.3198 - accuracy: 0.9625 - val_loss: 0.3328 - val_accuracy: 0.9750\n",
            "Epoch 16/25\n",
            "5/5 [==============================] - 0s 10ms/step - loss: 0.2750 - accuracy: 0.9812 - val_loss: 0.2918 - val_accuracy: 0.9750\n",
            "Epoch 17/25\n",
            "5/5 [==============================] - 0s 12ms/step - loss: 0.2338 - accuracy: 0.9812 - val_loss: 0.2565 - val_accuracy: 1.0000\n",
            "Epoch 18/25\n",
            "5/5 [==============================] - 0s 15ms/step - loss: 0.2032 - accuracy: 0.9750 - val_loss: 0.2313 - val_accuracy: 1.0000\n",
            "Epoch 19/25\n",
            "5/5 [==============================] - 0s 11ms/step - loss: 0.1745 - accuracy: 0.9875 - val_loss: 0.2083 - val_accuracy: 1.0000\n",
            "Epoch 20/25\n",
            "5/5 [==============================] - 0s 15ms/step - loss: 0.1534 - accuracy: 0.9937 - val_loss: 0.1863 - val_accuracy: 1.0000\n",
            "Epoch 21/25\n",
            "5/5 [==============================] - 0s 13ms/step - loss: 0.1340 - accuracy: 0.9937 - val_loss: 0.1633 - val_accuracy: 1.0000\n",
            "Epoch 22/25\n",
            "5/5 [==============================] - 0s 11ms/step - loss: 0.1193 - accuracy: 0.9937 - val_loss: 0.1523 - val_accuracy: 1.0000\n",
            "Epoch 23/25\n",
            "5/5 [==============================] - 0s 10ms/step - loss: 0.1051 - accuracy: 1.0000 - val_loss: 0.1412 - val_accuracy: 1.0000\n",
            "Epoch 24/25\n",
            "5/5 [==============================] - 0s 12ms/step - loss: 0.0933 - accuracy: 1.0000 - val_loss: 0.1297 - val_accuracy: 1.0000\n",
            "Epoch 25/25\n",
            "5/5 [==============================] - 0s 11ms/step - loss: 0.0826 - accuracy: 1.0000 - val_loss: 0.1173 - val_accuracy: 1.0000\n"
          ]
        },
        {
          "output_type": "execute_result",
          "data": {
            "text/plain": [
              "<keras.callbacks.History at 0x7fe740d94b20>"
            ]
          },
          "metadata": {},
          "execution_count": 77
        }
      ]
    },
    {
      "cell_type": "code",
      "source": [
        "# Task 3: Test the model with user input\n",
        "user_input = {\n",
        "    'Age': 23,\n",
        "    'Sex': 'F',\n",
        "    'BP': 'HIGH',\n",
        "    'Cholesterol': 'HIGH',\n",
        "    'Na_to_K': 25.355\n",
        "}\n",
        "\n",
        "# Encode user input according to label encoders\n",
        "encoded_input = {}\n",
        "for col, val in user_input.items():\n",
        "    if col in label_encoders:\n",
        "        encoded_input[col] = label_encoders[col].transform([val])[0]\n",
        "    else:\n",
        "        encoded_input[col] = val\n",
        "\n",
        "# Convert encoded input to a DataFrame\n",
        "new_data = pd.DataFrame([encoded_input])\n",
        "\n",
        "# Convert numerical columns to float\n",
        "new_data = new_data.astype(float)\n",
        "\n",
        "# Scale the input data using the previously fitted scaler\n",
        "new_data = scaler.transform(new_data)\n",
        "\n",
        "# Predict the class\n",
        "predictions = model.predict(new_data)\n",
        "predicted_class = label_encoders[df.columns[-1]].inverse_transform(np.argmax(predictions, axis=1))\n",
        "\n",
        "print(\"Predicted drug:\", predicted_class[0])"
      ],
      "metadata": {
        "colab": {
          "base_uri": "https://localhost:8080/"
        },
        "id": "MJ2FaE0mZTV2",
        "outputId": "6ec7f4d9-eba4-425a-973e-a325d01ab010"
      },
      "execution_count": null,
      "outputs": [
        {
          "output_type": "stream",
          "name": "stdout",
          "text": [
            "1/1 [==============================] - 0s 68ms/step\n",
            "Predicted drug: DrugY\n"
          ]
        },
        {
          "output_type": "stream",
          "name": "stderr",
          "text": [
            "/usr/local/lib/python3.10/dist-packages/sklearn/base.py:432: UserWarning: X has feature names, but StandardScaler was fitted without feature names\n",
            "  warnings.warn(\n"
          ]
        }
      ]
    }
  ]
}